{
  "cells": [
    {
      "cell_type": "markdown",
      "metadata": {
        "id": "VOmzgfon_pno"
      },
      "source": [
        "# SectorScan\n",
        "\n",
        "We will build a financial analytics app, called <b>SectorScan</b>, that turns data from different sectors into beautiful, easy-to-understand visualizations. User can choose which sectors to compare, and the app will analyze the Market Cap, Valuation, and Top Companies in those sectors.\n",
        "\n",
        "\n",
        "Why do we want to build this app?\n",
        "\n",
        "* By comparing various sectors, user can quickly spot which ones are performing better than the others. It’s like having a bird’s eye view of the market, making it easier to see trends and patterns that might not be obvious otherwise.\n",
        "\n",
        "* This app is great for investors who want to track the market without getting lost in the details.\n",
        "\n",
        "* And the last but not least, effort saving! All of the data is served in only one page. No need to open up many pages just to compare data from different sectors.\n",
        "\n",
        "Explore it now: https://sectorscan.streamlit.app/"
      ]
    },
    {
      "cell_type": "markdown",
      "metadata": {
        "id": "37TMwMpIBmcw"
      },
      "source": [
        "## Import Library & API Key"
      ]
    },
    {
      "cell_type": "code",
      "execution_count": null,
      "metadata": {
        "id": "p_m8pvU_Bt-M"
      },
      "outputs": [],
      "source": [
        "from google.colab import userdata\n",
        "api_key = userdata.get('sectors_api')"
      ]
    },
    {
      "cell_type": "code",
      "execution_count": null,
      "metadata": {
        "id": "YYnXjC9wCI3x"
      },
      "outputs": [],
      "source": [
        "import pandas as pd\n",
        "import requests\n",
        "import altair as alt"
      ]
    },
    {
      "cell_type": "markdown",
      "metadata": {
        "id": "qT-eYFyaBKCA"
      },
      "source": [
        "## Helper Functions"
      ]
    },
    {
      "cell_type": "code",
      "execution_count": null,
      "metadata": {
        "id": "YtfUeWaRBaqI"
      },
      "outputs": [],
      "source": [
        "def retrieve_from_endpoint(url:str):\n",
        "  headers = {\"Authorization\": api_key}\n",
        "\n",
        "  try:\n",
        "      response = requests.get(url, headers=headers)\n",
        "      response.raise_for_status()\n",
        "      data = response.json()\n",
        "  except requests.exceptions.HTTPError as err:\n",
        "      raise SystemExit(err)\n",
        "  return data"
      ]
    },
    {
      "cell_type": "code",
      "execution_count": null,
      "metadata": {
        "id": "_EIJh2VhC1EQ"
      },
      "outputs": [],
      "source": [
        "def retrieve_sectors_data():\n",
        "  url = \"https://api.sectors.app/v1/subsectors/\"\n",
        "  sectors = retrieve_from_endpoint(url)\n",
        "  sectors = [item['subsector'] for item in sectors]\n",
        "  return sectors"
      ]
    },
    {
      "cell_type": "code",
      "execution_count": null,
      "metadata": {
        "id": "D55hMGwzD7Hf"
      },
      "outputs": [],
      "source": [
        "def retrieve_market_cap_data(sectors_list):\n",
        "  # df to store total market cap\n",
        "  df_mc_curr = pd.DataFrame()\n",
        "  # df to store quarterly market cap\n",
        "  df_mc_hist = pd.DataFrame()\n",
        "  # df to store monthly performance\n",
        "  df_mc_change = pd.DataFrame()\n",
        "\n",
        "  for sector in sectors_list:\n",
        "    url = f\"https://api.sectors.app/v1/sector/report/{sector}/?sections=market_cap\"\n",
        "    market_cap = retrieve_from_endpoint(url)\n",
        "\n",
        "    # Process df_mc_curr\n",
        "    mc_curr = pd.DataFrame({\n",
        "      \"Sector\": market_cap[\"sub_sector\"],\n",
        "      \"Total Market Cap\": market_cap[\"market_cap\"][\"total_market_cap\"]\n",
        "    }, index=[0])\n",
        "    df_mc_curr = pd.concat([df_mc_curr, mc_curr], ignore_index=True)\n",
        "\n",
        "    # Process df_mc_hist\n",
        "    mc_hist = pd.DataFrame()\n",
        "    for i in [\"prev_ttm_mcap\", \"current_ttm_mcap\"]:\n",
        "      df = pd.melt(pd.DataFrame(market_cap[\"market_cap\"][\"quarterly_market_cap\"][i], index=[\"quarter\"]), var_name=\"Quarter\", value_name=\"Market Cap\")\n",
        "      df[\"Sector\"] = market_cap[\"sub_sector\"]\n",
        "      df = df[[\"Sector\", \"Quarter\", \"Market Cap\"]]\n",
        "      mc_hist = pd.concat([mc_hist, df], ignore_index=True)\n",
        "    df_mc_hist = pd.concat([df_mc_hist, mc_hist], ignore_index=True)\n",
        "\n",
        "    # Process df_mc_change\n",
        "    mc_change = pd.melt(pd.DataFrame(market_cap[\"market_cap\"][\"mcap_summary\"][\"monthly_performance\"], index=[\"date\"]), var_name=\"Date\", value_name=\"Market Cap Change\")\n",
        "    mc_change[\"Sector\"] = market_cap[\"sub_sector\"]\n",
        "    mc_change = mc_change[[\"Sector\", \"Date\", \"Market Cap Change\"]]\n",
        "    df_mc_change = pd.concat([df_mc_change, mc_change], ignore_index=True)\n",
        "\n",
        "  # Finalize df_mc_curr\n",
        "  url = f\"https://api.sectors.app/v1/sector/report/{sectors_list[0]}/?sections=idx\"\n",
        "  idx = retrieve_from_endpoint(url)\n",
        "\n",
        "  idx_mc = idx[\"idx\"][\"idx_cap\"]\n",
        "\n",
        "  # Calculate the total market cap of the other sectors\n",
        "  df_idx_mc = pd.DataFrame({\n",
        "          \"Sector\": \"Others\",\n",
        "          \"Total Market Cap\": idx_mc - df_mc_curr[\"Total Market Cap\"].sum()\n",
        "  }, index=[0])\n",
        "\n",
        "  # Combine it with df_mc_curr\n",
        "  df_mc_curr = pd.concat([df_mc_curr, df_idx_mc], ignore_index=True)\n",
        "\n",
        "  # Calculate % market cap of each sector\n",
        "  df_mc_curr[\"% Market Cap\"] = (df_mc_curr[\"Total Market Cap\"] / df_mc_curr[\"Total Market Cap\"].sum()) * 100\n",
        "\n",
        "  # Calculate market cap in trillion IDR\n",
        "  df_mc_curr[\"Market Cap (Trillion IDR)\"] = df_mc_curr[\"Total Market Cap\"]/10**12\n",
        "\n",
        "  # Finalize df_mc_hist\n",
        "  df_mc_hist[\"Market Cap (Trillion IDR)\"] = df_mc_hist[\"Market Cap\"]/10**12\n",
        "\n",
        "  # Finalize df_mc_change\n",
        "  df_mc_change[\"Market Cap Change (%)\"] = df_mc_change[\"Market Cap Change\"] * 100\n",
        "\n",
        "  return df_mc_curr, df_mc_hist, df_mc_change"
      ]
    },
    {
      "cell_type": "code",
      "execution_count": null,
      "metadata": {
        "id": "DM394VEAE2hO"
      },
      "outputs": [],
      "source": [
        "def retrieve_valuation_data(sectors_list):\n",
        "  # df to store valuation data\n",
        "  df_valuation = pd.DataFrame()\n",
        "\n",
        "  for sector in sectors_list:\n",
        "    url = f\"https://api.sectors.app/v1/sector/report/{sector}/?sections=valuation\"\n",
        "    valuation = retrieve_from_endpoint(url)\n",
        "\n",
        "    # Process df_valutation\n",
        "    df = pd.DataFrame(valuation[\"valuation\"][\"historical_valuation\"])\n",
        "    df[\"Sector\"] = valuation[\"sub_sector\"]\n",
        "    df_valuation = pd.concat([df_valuation, df], ignore_index=True)\n",
        "\n",
        "  # Remove unused columns and rename columns\n",
        "  try:\n",
        "      df_valuation = df_valuation.drop([\"pb_rank\", \"pe_rank\", \"ps_rank\", \"pcf_rank\"], axis=1)\n",
        "  except:\n",
        "      pass\n",
        "  df_valuation.columns = [\"Price/Book Ratio\", \"Price/Earning Ratio\", \"Price/Sales Ratio\", \"Price/Cash Flow Ratio\", \"Year\", \"Sector\"]\n",
        "\n",
        "  return df_valuation"
      ]
    },
    {
      "cell_type": "code",
      "execution_count": null,
      "metadata": {
        "id": "PvT14wMsLc1S"
      },
      "outputs": [],
      "source": [
        "def retrieve_top_companies_data(sectors_list):\n",
        "  # df to store top companies based on market cap\n",
        "  df_top_mc = pd.DataFrame()\n",
        "  # df to store top companies based on revenue growth\n",
        "  df_top_growth = pd.DataFrame()\n",
        "  # df to store top companies based on profit\n",
        "  df_top_profit = pd.DataFrame()\n",
        "  # df to store top companies based on revenue\n",
        "  df_top_revenue = pd.DataFrame()\n",
        "\n",
        "  for sector in sectors_list:\n",
        "    url = f\"https://api.sectors.app/v1/sector/report/{sector}/?sections=companies\"\n",
        "    company = retrieve_from_endpoint(url)\n",
        "\n",
        "    # Process df_top_mc, df_top_growth, df_top_profit, df_top_revenue\n",
        "    keys = [\"top_mcap\", \"top_growth\", \"top_profit\", \"top_revenue\"]\n",
        "    dfs = {}\n",
        "\n",
        "    for key in keys:\n",
        "        df = pd.DataFrame(company[\"companies\"][\"top_companies\"][key])\n",
        "        df[\"Sector\"] = company[\"sub_sector\"]\n",
        "        dfs[key] = df\n",
        "\n",
        "    df_top_mc = pd.concat([df_top_mc, dfs[\"top_mcap\"]], ignore_index=True)\n",
        "    df_top_growth = pd.concat([df_top_growth, dfs[\"top_growth\"]], ignore_index=True)\n",
        "    df_top_profit = pd.concat([df_top_profit, dfs[\"top_profit\"]], ignore_index=True)\n",
        "    df_top_revenue = pd.concat([df_top_revenue, dfs[\"top_revenue\"]], ignore_index=True)\n",
        "\n",
        "  # Rename columns\n",
        "  df_top_mc.columns = [\"Symbol\", \"Market Cap\", \"Sector\"]\n",
        "  df_top_growth.columns = [\"Symbol\", \"Revenue Growth\", \"Sector\"]\n",
        "  df_top_profit.columns = [\"Symbol\", \"Profit\", \"Sector\"]\n",
        "  df_top_revenue.columns = [\"Symbol\", \"Revenue\", \"Sector\"]\n",
        "\n",
        "  # Finalize data frames\n",
        "  df_top_mc[\"Market Cap (Trillion IDR)\"] = df_top_mc[\"Market Cap\"]/10**12\n",
        "  df_top_growth[\"Revenue Growth (%)\"] = df_top_growth[\"Revenue Growth\"] * 100\n",
        "  df_top_profit[\"Profit (Billion IDR)\"] = df_top_profit[\"Profit\"]/10**9\n",
        "  df_top_revenue[\"Revenue (Trillion IDR)\"] = df_top_revenue[\"Revenue\"]/10**12\n",
        "\n",
        "  return df_top_mc, df_top_growth, df_top_profit, df_top_revenue"
      ]
    },
    {
      "cell_type": "markdown",
      "metadata": {
        "id": "Atx7b_7bATLq"
      },
      "source": [
        "## Dive into the Data"
      ]
    },
    {
      "cell_type": "markdown",
      "metadata": {
        "id": "kj-WlagiSCW9"
      },
      "source": [
        "### Sectors\n",
        "\n",
        "First thing first, let's get the list of the sectors from this [endpoint](https://docs.sectors.app/api-references/helper-list/subsectors). This list will be used as our filter list."
      ]
    },
    {
      "cell_type": "code",
      "execution_count": null,
      "metadata": {
        "colab": {
          "base_uri": "https://localhost:8080/"
        },
        "id": "Y7Pjd2qZTVve",
        "outputId": "90334b1f-ff99-4405-b8cd-ca296aad6b18"
      },
      "outputs": [],
      "source": [
        "# Call retrieve_sectors_data() function\n",
        "sectors_list = retrieve_sectors_data()\n",
        "sectors_list"
      ]
    },
    {
      "cell_type": "markdown",
      "metadata": {
        "id": "NBkHnxHBRNuJ"
      },
      "source": [
        "All data that we're going to retrieved from this moment on is from this [endpoint](https://docs.sectors.app/api-references/report/sector). We just have to provide the section that we want to retrieved.\n",
        "\n",
        "### Market Cap\n",
        "\n",
        "Now let's retrieve the market cap data of the sectors. Since we're still in this notebook, we'll use the first 3 sectors. Later on in the app, we can use the selected sectors from the filter.\n",
        "\n",
        "There are 3 data that we're going to retrieved:\n",
        "\n",
        "* `total_mc` : total market cap data\n",
        "* `historical_mc`: historical market cap data\n",
        "* `change_mc`: historical market cap change data"
      ]
    },
    {
      "cell_type": "code",
      "execution_count": null,
      "metadata": {
        "id": "V9nNspOrR6o4"
      },
      "outputs": [],
      "source": [
        "# Call retrieve_market_cap_data() function\n",
        "total_mc, historical_mc, change_mc = retrieve_market_cap_data(sectors_list[0:3])"
      ]
    },
    {
      "cell_type": "markdown",
      "metadata": {
        "id": "7tywK2fyRQtI"
      },
      "source": [
        "#### Total Market Cap\n",
        "\n",
        "Let's compare the percentage of the sectors' total market cap compared to the total IDX market cap. So we know, which sectors dominate the market."
      ]
    },
    {
      "cell_type": "code",
      "execution_count": null,
      "metadata": {
        "colab": {
          "base_uri": "https://localhost:8080/",
          "height": 175
        },
        "id": "KXM0J3f0iT99",
        "outputId": "9c3ceceb-b821-4a24-c7e5-085d519dfb35"
      },
      "outputs": [],
      "source": [
        "# Snippet of the data\n",
        "total_mc.head()"
      ]
    },
    {
      "cell_type": "markdown",
      "metadata": {
        "id": "ZKn0UUcniu6J"
      },
      "source": [
        "We'll use [pie chart](https://altair-viz.github.io/user_guide/marks/arc.html) from altair.\n",
        "\n",
        "Altair color scheme: [check it here](https://vega.github.io/vega/docs/schemes/)."
      ]
    },
    {
      "cell_type": "code",
      "execution_count": null,
      "metadata": {
        "id": "rFsc2Nn5AI9F"
      },
      "outputs": [],
      "source": [
        "total_mc_chart = alt.Chart(total_mc).mark_arc().encode(\n",
        "    theta=alt.Theta(\"% Market Cap:Q\"),\n",
        "    color=alt.Color(\n",
        "        \"Sector:N\",\n",
        "        scale=alt.Scale(scheme=\"reds\"),\n",
        "        sort=alt.EncodingSortField(field=\"% Market Cap\", order=\"ascending\") # sort color based on % Market Cap value\n",
        "    ),\n",
        "    tooltip=[\n",
        "        alt.Tooltip(\"Sector:N\"),\n",
        "        alt.Tooltip(\"% Market Cap:Q\", format=\".2f\"),\n",
        "        alt.Tooltip(\"Market Cap (Trillion IDR):Q\", format=\",.2f\"),\n",
        "    ]\n",
        ").properties(\n",
        "    title=\"% Market Cap of Each Sector of the Total IDX Market Cap\",\n",
        "    width=400\n",
        ")"
      ]
    },
    {
      "cell_type": "markdown",
      "metadata": {
        "id": "HjAkoB2Rjzfk"
      },
      "source": [
        "Notice that I use `:Q` and `:N` behind the column names, these are used to specify the data type, with `Q` stands for quantitative, and `N` stands for nominal."
      ]
    },
    {
      "cell_type": "code",
      "execution_count": null,
      "metadata": {
        "colab": {
          "base_uri": "https://localhost:8080/",
          "height": 348
        },
        "id": "YVUjRz-6_lW3",
        "outputId": "7aaccc57-01f9-4329-9829-ce66dec16f47"
      },
      "outputs": [],
      "source": [
        "total_mc_chart"
      ]
    },
    {
      "cell_type": "markdown",
      "metadata": {
        "id": "lGxsZVGfj3q3"
      },
      "source": [
        "##### Historical Market Cap"
      ]
    },
    {
      "cell_type": "code",
      "execution_count": null,
      "metadata": {
        "colab": {
          "base_uri": "https://localhost:8080/",
          "height": 206
        },
        "id": "i7zl2hJwkLjr",
        "outputId": "1b551d43-3ef6-485b-c2bf-bb0c7b993f1d"
      },
      "outputs": [],
      "source": [
        "# Snippet of the data\n",
        "historical_mc.head()"
      ]
    },
    {
      "cell_type": "markdown",
      "metadata": {
        "id": "O2QjO8E1kSFG"
      },
      "source": [
        "We'll use [line chart](https://altair-viz.github.io/user_guide/marks/line.html) from altair."
      ]
    },
    {
      "cell_type": "code",
      "execution_count": null,
      "metadata": {
        "id": "5EMWtp7_iRAH"
      },
      "outputs": [],
      "source": [
        "historical_mc_chart = alt.Chart(historical_mc).mark_line(\n",
        "    point=True # add individual data points to the line chart\n",
        ").encode(\n",
        "    x=alt.X(\"Quarter:N\", axis=alt.Axis(labelAngle=0)), # 0 degree of x-axis label angle\n",
        "    y=alt.Y(\"Market Cap (Trillion IDR):Q\"),\n",
        "    color=alt.Color(\n",
        "        \"Sector:N\",\n",
        "        scale=alt.Scale(scheme=\"lightgreyred\"),\n",
        "        sort=alt.SortField(field=\"Sector\", order=\"ascending\") # sort color based on the sector's name\n",
        "    ),\n",
        "    tooltip=[\n",
        "        alt.Tooltip(\"Sector:N\"),\n",
        "        alt.Tooltip(\"Quarter:N\"),\n",
        "        alt.Tooltip(\"Market Cap (Trillion IDR):Q\", format=\".2f\")\n",
        "    ]\n",
        ").properties(\n",
        "    title=\"Historical Market Cap Across Sectors\",\n",
        "    width=500\n",
        ")"
      ]
    },
    {
      "cell_type": "code",
      "execution_count": null,
      "metadata": {
        "colab": {
          "base_uri": "https://localhost:8080/",
          "height": 385
        },
        "id": "Eq0M3ofKkeOk",
        "outputId": "e3fdcc99-e981-44b0-ceac-64cc3256de66"
      },
      "outputs": [],
      "source": [
        "historical_mc_chart"
      ]
    },
    {
      "cell_type": "markdown",
      "metadata": {
        "id": "JO1xX4r7khba"
      },
      "source": [
        "#### Historical Market Cap Change"
      ]
    },
    {
      "cell_type": "code",
      "execution_count": null,
      "metadata": {
        "colab": {
          "base_uri": "https://localhost:8080/",
          "height": 206
        },
        "id": "BgnsiLjBkkNa",
        "outputId": "5b4a6ecf-3df3-4124-aaaf-215881d50d49"
      },
      "outputs": [],
      "source": [
        "# Snippet of the data\n",
        "change_mc.head()"
      ]
    },
    {
      "cell_type": "code",
      "execution_count": null,
      "metadata": {
        "id": "mE4-gZMskoEr"
      },
      "outputs": [],
      "source": [
        "change_mc_chart = alt.Chart(change_mc).mark_line(\n",
        "    point=True # add individual data points to the line chart\n",
        ").encode(\n",
        "    x=alt.X(\"Date:T\"),\n",
        "    y=alt.Y(\"Market Cap Change (%):Q\"),\n",
        "    color=alt.Color(\n",
        "        \"Sector:N\",\n",
        "        scale=alt.Scale(scheme=\"lightgreyred\"),\n",
        "        sort=alt.SortField(field=\"Sector\", order=\"ascending\") # sort color based on the sector's name\n",
        "    ),\n",
        "    tooltip=[\n",
        "        alt.Tooltip(\"Sector:N\"),\n",
        "        alt.Tooltip(\"Date:T\"),\n",
        "        alt.Tooltip(\"Market Cap Change (%):Q\", format=\".2f\")\n",
        "    ]\n",
        ").properties(\n",
        "    title=\"Historical Market Cap Change Across Sectors\",\n",
        "    width=900\n",
        ")"
      ]
    },
    {
      "cell_type": "code",
      "execution_count": null,
      "metadata": {
        "colab": {
          "base_uri": "https://localhost:8080/",
          "height": 385
        },
        "id": "XtWZVe-0kuW5",
        "outputId": "38df21c5-1db7-44d9-a2f5-8de8ea240a62"
      },
      "outputs": [],
      "source": [
        "change_mc_chart"
      ]
    },
    {
      "cell_type": "markdown",
      "metadata": {
        "id": "959dWI_1kz34"
      },
      "source": [
        "### Valuation\n",
        "\n",
        "Now let's move on to the Valuation. There are four valuation metrics that we'll try to compare:\n",
        "- Price/Book Ratio\n",
        "- Price/Earning Ratio\n",
        "- Price/Sales Ratio\n",
        "- Price/Cash Flow Ratio\n",
        "\n",
        "Comparing valuation can be useful to evaluate which sectors are overvalued and which are undervalued.\n",
        "\n",
        "Let's first retrieve the data:"
      ]
    },
    {
      "cell_type": "code",
      "execution_count": null,
      "metadata": {
        "id": "UkDdmxJRlLLp"
      },
      "outputs": [],
      "source": [
        "# Call retrieve_valuation_data() function\n",
        "df_valuation = retrieve_valuation_data(sectors_list[0:3])"
      ]
    },
    {
      "cell_type": "code",
      "execution_count": null,
      "metadata": {
        "colab": {
          "base_uri": "https://localhost:8080/",
          "height": 206
        },
        "id": "bP-GRMGXlZcf",
        "outputId": "c90e3e38-65da-4220-f2f6-d83120298bf0"
      },
      "outputs": [],
      "source": [
        "df_valuation.head()"
      ]
    },
    {
      "cell_type": "markdown",
      "metadata": {
        "id": "3MHuZd6LlnDX"
      },
      "source": [
        "We'll use the line chart again."
      ]
    },
    {
      "cell_type": "code",
      "execution_count": null,
      "metadata": {
        "id": "RxA-yJXclmd9"
      },
      "outputs": [],
      "source": [
        "valuation_chart = alt.Chart(df_valuation).mark_line(\n",
        "    point=True # add individual data points to the line chart\n",
        ").encode(\n",
        "    x=alt.X(\"Year:N\", axis=alt.Axis(labelAngle=0)), # 0 degree of x-axis label angle\n",
        "    y=alt.Y(\"Price/Book Ratio:Q\"),\n",
        "    color=alt.Color(\n",
        "        \"Sector:N\",\n",
        "        scale=alt.Scale(scheme=\"lightgreyred\"),\n",
        "        sort=alt.SortField(field=\"Sector\", order=\"ascending\") # sort color based on the sector's name\n",
        "    ),\n",
        "    tooltip=[\n",
        "        alt.Tooltip(\"Sector:N\"),\n",
        "        alt.Tooltip(\"Year:N\"),\n",
        "        alt.Tooltip(\"Price/Book Ratio:Q\", format=\".2f\")\n",
        "    ]\n",
        ").properties(\n",
        "    title=\"Price/Book Ratio Across Sectors\",\n",
        "    width=900\n",
        ")"
      ]
    },
    {
      "cell_type": "code",
      "execution_count": null,
      "metadata": {
        "colab": {
          "base_uri": "https://localhost:8080/",
          "height": 385
        },
        "id": "r6eyTiNllrYk",
        "outputId": "2c72867e-d490-4c42-b4dd-d50a82308168"
      },
      "outputs": [],
      "source": [
        "valuation_chart"
      ]
    },
    {
      "cell_type": "markdown",
      "metadata": {
        "id": "rqRgCdomlvYa"
      },
      "source": [
        "For the other metrics, just change all the `Price/Book Ratio` in the code above with the metric: `Price/Earning Ratio`, `Price/Sales Ratio`, or `Price/Cash Flow Ratio`, and you should get a similar visualization as above but with the chosen metric value."
      ]
    },
    {
      "cell_type": "code",
      "execution_count": null,
      "metadata": {
        "id": "HdrB1jrIl8Xk"
      },
      "outputs": [],
      "source": [
        "# Make the function to be dynamic based on the selected metric\n",
        "selected_metric = \"Price/Earning Ratio\"\n",
        "valuation_chart = alt.Chart(df_valuation).mark_line(\n",
        "    point=True # add individual data points to the line chart\n",
        ").encode(\n",
        "    x=alt.X(\"Year:N\", axis=alt.Axis(labelAngle=0)), # 0 degree of x-axis label angle\n",
        "    y=alt.Y(f\"{selected_metric}:Q\"),\n",
        "    color=alt.Color(\n",
        "        \"Sector:N\",\n",
        "        scale=alt.Scale(scheme=\"lightgreyred\"),\n",
        "        sort=alt.SortField(field=\"Sector\", order=\"ascending\") # sort color based on the sector's name\n",
        "    ),\n",
        "    tooltip=[\n",
        "        alt.Tooltip(\"Sector:N\"),\n",
        "        alt.Tooltip(\"Year:N\"),\n",
        "        alt.Tooltip(f\"{selected_metric}:Q\", format=\".2f\")\n",
        "    ]\n",
        ").properties(\n",
        "    title=f\"{selected_metric} Across Sectors\",\n",
        "    width=900\n",
        ")"
      ]
    },
    {
      "cell_type": "code",
      "execution_count": null,
      "metadata": {
        "colab": {
          "base_uri": "https://localhost:8080/",
          "height": 385
        },
        "id": "cmYuuee1mRNO",
        "outputId": "3c34fc84-21bc-4ec3-aabf-f7dba251fc56"
      },
      "outputs": [],
      "source": [
        "valuation_chart"
      ]
    },
    {
      "cell_type": "markdown",
      "metadata": {
        "id": "neK9ubZ7nfXP"
      },
      "source": [
        "### Top Companies\n",
        "\n",
        "The last aspect we'll compare between the sectors is the Top Companies. By doing this analysis, we can directly find the top performing companies in the sectors we compare. For this comparison, we'll use four criteria to identify the top companies in each sector:\n",
        "\n",
        "- Top companies based on Market Cap\n",
        "- Top companies based on Revenue Growth\n",
        "- Top companies based on Profit\n",
        "- Top companies based on Revenue\n",
        "\n",
        "Let's first retrieve the data:"
      ]
    },
    {
      "cell_type": "code",
      "execution_count": null,
      "metadata": {
        "id": "rYgFfxgKnhrq"
      },
      "outputs": [],
      "source": [
        "# Call retrieve_top_companies_data() function\n",
        "df_top_mc, df_top_growth, df_top_profit, df_top_revenue = retrieve_top_companies_data(sectors_list[0:3])"
      ]
    },
    {
      "cell_type": "markdown",
      "metadata": {
        "id": "Gaw59FomoMqe"
      },
      "source": [
        "#### Top Companies based on the total market cap"
      ]
    },
    {
      "cell_type": "code",
      "execution_count": null,
      "metadata": {
        "colab": {
          "base_uri": "https://localhost:8080/",
          "height": 206
        },
        "id": "RvSdMCQuoTt2",
        "outputId": "be97ef9f-7199-4579-ba70-94f37acf25e0"
      },
      "outputs": [],
      "source": [
        "# Snippet of the data\n",
        "df_top_mc.head()"
      ]
    },
    {
      "cell_type": "markdown",
      "metadata": {
        "id": "YQn6EqGpouze"
      },
      "source": [
        "We'll use [bar chart](https://altair-viz.github.io/user_guide/marks/bar.html)."
      ]
    },
    {
      "cell_type": "code",
      "execution_count": null,
      "metadata": {
        "id": "_6QRwU4RoZog"
      },
      "outputs": [],
      "source": [
        "mc_chart = alt.Chart(df_top_mc).mark_bar().encode(\n",
        "    x=alt.X(\"Market Cap (Trillion IDR):Q\"),\n",
        "    y=alt.Y(\"Symbol:N\", sort=\"-x\"), # sort y-axis based on the value of the x-axis in descending order\n",
        "    color=alt.Color(\n",
        "        \"Sector:N\",\n",
        "        scale=alt.Scale(scheme=\"lightgreyred\"),\n",
        "        sort=alt.SortField(field=\"Sector\", order=\"ascending\") # sort color based on the sector's name\n",
        "    ),\n",
        "    tooltip=[\n",
        "        alt.Tooltip(\"Sector:N\"),\n",
        "        alt.Tooltip(\"Symbol:N\"),\n",
        "        alt.Tooltip(\"Market Cap (Trillion IDR):Q\", format=\".2f\")\n",
        "    ]\n",
        ").properties(\n",
        "    title=\"Top Companies based on Market Cap Across Sectors\",\n",
        "    width=900,\n",
        "    height=500,\n",
        ")"
      ]
    },
    {
      "cell_type": "code",
      "execution_count": null,
      "metadata": {
        "colab": {
          "base_uri": "https://localhost:8080/",
          "height": 580
        },
        "id": "ZgYwQ0OMo5Gq",
        "outputId": "2e76740c-bfeb-4027-a472-4a477098cd19"
      },
      "outputs": [],
      "source": [
        "mc_chart"
      ]
    },
    {
      "cell_type": "code",
      "execution_count": null,
      "metadata": {
        "id": "xlbbZfZtpgqg"
      },
      "outputs": [],
      "source": [
        "growth_chart = alt.Chart(df_top_growth).mark_bar().encode(\n",
        "    x=alt.X(\"Revenue Growth (%):Q\"),\n",
        "    y=alt.Y(\"Symbol:N\", sort=\"-x\"), # sort y-axis based on the value of the x-axis in descending order\n",
        "    color=alt.Color(\n",
        "        \"Sector:N\",\n",
        "        scale=alt.Scale(scheme=\"lightgreyred\"),\n",
        "        sort=alt.SortField(field=\"Sector\", order=\"ascending\") # sort color based on the sector's name\n",
        "    ),\n",
        "    tooltip=[\n",
        "        alt.Tooltip(\"Sector:N\"),\n",
        "        alt.Tooltip(\"Symbol:N\"),\n",
        "        alt.Tooltip(\"Revenue Growth (%):Q\", format=\",.2f\")\n",
        "    ]\n",
        ").properties(\n",
        "    title=\"Top Companies based on Revenue Growth Across Sectors\",\n",
        "    width=900,\n",
        "    height=500,\n",
        ")"
      ]
    },
    {
      "cell_type": "code",
      "execution_count": null,
      "metadata": {
        "colab": {
          "base_uri": "https://localhost:8080/",
          "height": 580
        },
        "id": "MF9ZxSRYpkTb",
        "outputId": "69a66928-399c-4a8c-8097-578b8d76d285"
      },
      "outputs": [],
      "source": [
        "growth_chart"
      ]
    },
    {
      "cell_type": "code",
      "execution_count": null,
      "metadata": {
        "id": "rawlb6jqpl3p"
      },
      "outputs": [],
      "source": [
        "profit_chart = alt.Chart(df_top_profit).mark_bar().encode(\n",
        "    x=alt.X(\"Profit (Billion IDR):Q\"),\n",
        "    y=alt.Y(\"Symbol:N\", sort=\"-x\"), # sort y-axis based on the value of the x-axis in descending order\n",
        "    color=alt.Color(\n",
        "        \"Sector:N\",\n",
        "        scale=alt.Scale(scheme=\"lightgreyred\"),\n",
        "        sort=alt.SortField(field=\"Sector\", order=\"ascending\") # sort color based on the sector's name\n",
        "    ),\n",
        "    tooltip=[\n",
        "        alt.Tooltip(\"Sector:N\"),\n",
        "        alt.Tooltip(\"Symbol:N\"),\n",
        "        alt.Tooltip(\"Profit (Billion IDR):Q\", format=\",.2f\")\n",
        "    ]\n",
        ").properties(\n",
        "    title=\"Top Companies based on Profit Across Sectors\",\n",
        "    width=900,\n",
        "    height=500,\n",
        ")"
      ]
    },
    {
      "cell_type": "code",
      "execution_count": null,
      "metadata": {
        "colab": {
          "base_uri": "https://localhost:8080/",
          "height": 580
        },
        "id": "x2p4nbcmpqYm",
        "outputId": "22516e0c-9e20-4e29-c081-dd81fa65a995"
      },
      "outputs": [],
      "source": [
        "profit_chart"
      ]
    },
    {
      "cell_type": "code",
      "execution_count": null,
      "metadata": {
        "id": "CMPS79bDpres"
      },
      "outputs": [],
      "source": [
        "revenue_chart = alt.Chart(df_top_revenue).mark_bar().encode(\n",
        "    x=alt.X(\"Revenue (Trillion IDR):Q\"),\n",
        "    y=alt.Y(\"Symbol:N\", sort=\"-x\"), # sort y-axis based on the value of the x-axis in descending order\n",
        "    color=alt.Color(\n",
        "        \"Sector:N\",\n",
        "        scale=alt.Scale(scheme=\"lightgreyred\"),\n",
        "        sort=alt.SortField(field=\"Sector\", order=\"ascending\") # sort color based on the sector's name\n",
        "    ),\n",
        "    tooltip=[\n",
        "        alt.Tooltip(\"Sector:N\"),\n",
        "        alt.Tooltip(\"Symbol:N\"),\n",
        "        alt.Tooltip(\"Revenue (Trillion IDR):Q\", format=\",.2f\")\n",
        "    ]\n",
        ").properties(\n",
        "    title=\"Top Companies based on Revenue Across Sectors\",\n",
        "    width=900,\n",
        "    height=500,\n",
        ")"
      ]
    },
    {
      "cell_type": "code",
      "execution_count": null,
      "metadata": {
        "colab": {
          "base_uri": "https://localhost:8080/",
          "height": 580
        },
        "id": "7hVZstGJpuEi",
        "outputId": "95a2fa76-cd4a-440b-f9c6-a9f3c6386e67"
      },
      "outputs": [],
      "source": [
        "revenue_chart"
      ]
    },
    {
      "cell_type": "markdown",
      "metadata": {
        "id": "estUJgcnp1Os"
      },
      "source": [
        "Now let's move all our analysis to the streamlit app!"
      ]
    }
  ],
  "metadata": {
    "colab": {
      "collapsed_sections": [
        "qT-eYFyaBKCA"
      ],
      "provenance": []
    },
    "kernelspec": {
      "display_name": "Python 3",
      "name": "python3"
    },
    "language_info": {
      "name": "python"
    }
  },
  "nbformat": 4,
  "nbformat_minor": 0
}
